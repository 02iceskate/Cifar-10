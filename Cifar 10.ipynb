{
 "cells": [
  {
   "cell_type": "code",
   "execution_count": 1,
   "metadata": {},
   "outputs": [
    {
     "name": "stderr",
     "output_type": "stream",
     "text": [
      "Using TensorFlow backend.\n"
     ]
    }
   ],
   "source": [
    "import keras\n",
    "from keras.datasets import cifar10\n",
    "from keras.models import Sequential\n",
    "from keras.layers import Dense, Dropout, Flatten\n",
    "from keras.layers import Conv2D, MaxPooling2D\n",
    "from keras import backend as K"
   ]
  },
  {
   "cell_type": "code",
   "execution_count": 2,
   "metadata": {},
   "outputs": [],
   "source": [
    "(x_train, y_train), (x_test, y_test) = cifar10.load_data()"
   ]
  },
  {
   "cell_type": "code",
   "execution_count": 3,
   "metadata": {},
   "outputs": [],
   "source": [
    "num_classes = 10"
   ]
  },
  {
   "cell_type": "code",
   "execution_count": 4,
   "metadata": {},
   "outputs": [],
   "source": [
    "batch_size = 128\n",
    "epochs = 50"
   ]
  },
  {
   "cell_type": "code",
   "execution_count": 5,
   "metadata": {},
   "outputs": [
    {
     "data": {
      "text/plain": [
       "(50000, 32, 32, 3)"
      ]
     },
     "execution_count": 5,
     "metadata": {},
     "output_type": "execute_result"
    }
   ],
   "source": [
    "x_train.shape"
   ]
  },
  {
   "cell_type": "code",
   "execution_count": 6,
   "metadata": {},
   "outputs": [
    {
     "name": "stdout",
     "output_type": "stream",
     "text": [
      "(50000, 1) (10000, 1)\n"
     ]
    }
   ],
   "source": [
    "print(y_train.shape, y_test.shape)"
   ]
  },
  {
   "cell_type": "code",
   "execution_count": 7,
   "metadata": {},
   "outputs": [],
   "source": [
    "img_rows, img_cols = 32, 32"
   ]
  },
  {
   "cell_type": "code",
   "execution_count": 8,
   "metadata": {},
   "outputs": [
    {
     "data": {
      "text/plain": [
       "50000"
      ]
     },
     "execution_count": 8,
     "metadata": {},
     "output_type": "execute_result"
    }
   ],
   "source": [
    "len(y_train)"
   ]
  },
  {
   "cell_type": "code",
   "execution_count": 9,
   "metadata": {},
   "outputs": [],
   "source": [
    "input_shape = (img_rows, img_cols, 3)"
   ]
  },
  {
   "cell_type": "code",
   "execution_count": 10,
   "metadata": {},
   "outputs": [],
   "source": [
    "x_train = x_train.reshape(x_train.shape[0], img_rows, img_cols, 3)\n",
    "x_test = x_test.reshape(x_test.shape[0], img_rows, img_cols, 3)"
   ]
  },
  {
   "cell_type": "code",
   "execution_count": 11,
   "metadata": {},
   "outputs": [
    {
     "name": "stdout",
     "output_type": "stream",
     "text": [
      "x_train shape: (50000, 32, 32, 3)\n",
      "x_test shape: (10000, 32, 32, 3)\n"
     ]
    }
   ],
   "source": [
    "#   Type convert and scale the test and training data\n",
    "x_train = x_train.astype('float32')\n",
    "x_test = x_test.astype('float32')\n",
    "x_train /= 255\n",
    "x_test /= 255\n",
    "print('x_train shape:', x_train.shape)\n",
    "print('x_test shape:', x_test.shape)\n",
    "#print(y_train[0:1])\n"
   ]
  },
  {
   "cell_type": "code",
   "execution_count": 12,
   "metadata": {},
   "outputs": [
    {
     "name": "stdout",
     "output_type": "stream",
     "text": [
      "(32, 32, 3)\n"
     ]
    }
   ],
   "source": [
    "print(input_shape)"
   ]
  },
  {
   "cell_type": "code",
   "execution_count": 13,
   "metadata": {},
   "outputs": [],
   "source": [
    "y_train = keras.utils.to_categorical(y_train, num_classes)\n",
    "y_test = keras.utils.to_categorical(y_test, num_classes)\n",
    "#print(y_train[0:1])   # verify one-hot encoding"
   ]
  },
  {
   "cell_type": "code",
   "execution_count": 14,
   "metadata": {},
   "outputs": [
    {
     "name": "stdout",
     "output_type": "stream",
     "text": [
      "(10000, 32, 32, 3) (10000, 10) (50000, 10) (50000, 32, 32, 3)\n"
     ]
    }
   ],
   "source": [
    "print(x_test.shape,y_test.shape, y_train.shape,x_train.shape)"
   ]
  },
  {
   "cell_type": "code",
   "execution_count": 15,
   "metadata": {},
   "outputs": [],
   "source": [
    "model = Sequential()"
   ]
  },
  {
   "cell_type": "code",
   "execution_count": 16,
   "metadata": {},
   "outputs": [
    {
     "name": "stdout",
     "output_type": "stream",
     "text": [
      "WARNING:tensorflow:From C:\\Users\\user\\Anaconda3\\lib\\site-packages\\tensorflow\\python\\framework\\op_def_library.py:263: colocate_with (from tensorflow.python.framework.ops) is deprecated and will be removed in a future version.\n",
      "Instructions for updating:\n",
      "Colocations handled automatically by placer.\n",
      "WARNING:tensorflow:From C:\\Users\\user\\Anaconda3\\lib\\site-packages\\keras\\backend\\tensorflow_backend.py:3445: calling dropout (from tensorflow.python.ops.nn_ops) with keep_prob is deprecated and will be removed in a future version.\n",
      "Instructions for updating:\n",
      "Please use `rate` instead of `keep_prob`. Rate should be set to `rate = 1 - keep_prob`.\n"
     ]
    }
   ],
   "source": [
    "model.add(Conv2D(32, kernel_size=(3, 3),\n",
    "                  activation='relu',\n",
    "                 padding='same',\n",
    "                 strides=(1,1),\n",
    "                  input_shape=input_shape))\n",
    "model.add(MaxPooling2D(pool_size=(2, 2), strides=(2, 2)))\n",
    "\n",
    "model.add(Conv2D(64, kernel_size=(3, 3), strides=(1, 1), padding='same',activation='relu',input_shape = ()))\n",
    "model.add(MaxPooling2D(pool_size=(2, 2)))\n",
    "\n",
    "model.add(Flatten())\n",
    "model.add(Dense(256, activation='relu'))\n",
    "model.add(Dense(128, activation='relu'))\n",
    "model.add(Dropout(0.5))\n",
    "model.add(Dense(num_classes, activation='softmax'))"
   ]
  },
  {
   "cell_type": "code",
   "execution_count": 17,
   "metadata": {},
   "outputs": [
    {
     "name": "stdout",
     "output_type": "stream",
     "text": [
      "_________________________________________________________________\n",
      "Layer (type)                 Output Shape              Param #   \n",
      "=================================================================\n",
      "conv2d_1 (Conv2D)            (None, 32, 32, 32)        896       \n",
      "_________________________________________________________________\n",
      "max_pooling2d_1 (MaxPooling2 (None, 16, 16, 32)        0         \n",
      "_________________________________________________________________\n",
      "conv2d_2 (Conv2D)            (None, 16, 16, 64)        18496     \n",
      "_________________________________________________________________\n",
      "max_pooling2d_2 (MaxPooling2 (None, 8, 8, 64)          0         \n",
      "_________________________________________________________________\n",
      "flatten_1 (Flatten)          (None, 4096)              0         \n",
      "_________________________________________________________________\n",
      "dense_1 (Dense)              (None, 256)               1048832   \n",
      "_________________________________________________________________\n",
      "dense_2 (Dense)              (None, 128)               32896     \n",
      "_________________________________________________________________\n",
      "dropout_1 (Dropout)          (None, 128)               0         \n",
      "_________________________________________________________________\n",
      "dense_3 (Dense)              (None, 10)                1290      \n",
      "=================================================================\n",
      "Total params: 1,102,410\n",
      "Trainable params: 1,102,410\n",
      "Non-trainable params: 0\n",
      "_________________________________________________________________\n"
     ]
    }
   ],
   "source": [
    "model.summary()"
   ]
  },
  {
   "cell_type": "code",
   "execution_count": 18,
   "metadata": {},
   "outputs": [],
   "source": [
    "#problem encounter -input_shape"
   ]
  },
  {
   "cell_type": "code",
   "execution_count": 19,
   "metadata": {},
   "outputs": [
    {
     "name": "stdout",
     "output_type": "stream",
     "text": [
      "WARNING:tensorflow:From C:\\Users\\user\\Anaconda3\\lib\\site-packages\\tensorflow\\python\\ops\\math_ops.py:3066: to_int32 (from tensorflow.python.ops.math_ops) is deprecated and will be removed in a future version.\n",
      "Instructions for updating:\n",
      "Use tf.cast instead.\n",
      "Train on 50000 samples, validate on 10000 samples\n",
      "Epoch 1/50\n",
      "50000/50000 [==============================] - 84s 2ms/step - loss: 1.5825 - acc: 0.4210 - val_loss: 1.2528 - val_acc: 0.5556\n",
      "Epoch 2/50\n",
      "50000/50000 [==============================] - 79s 2ms/step - loss: 1.1497 - acc: 0.5985 - val_loss: 0.9867 - val_acc: 0.6580\n",
      "Epoch 3/50\n",
      "50000/50000 [==============================] - 79s 2ms/step - loss: 0.9807 - acc: 0.6596 - val_loss: 1.0038 - val_acc: 0.6470\n",
      "Epoch 4/50\n",
      "50000/50000 [==============================] - 78s 2ms/step - loss: 0.8620 - acc: 0.7042 - val_loss: 0.8548 - val_acc: 0.7090\n",
      "Epoch 5/50\n",
      "50000/50000 [==============================] - 78s 2ms/step - loss: 0.7728 - acc: 0.7363 - val_loss: 0.8712 - val_acc: 0.7065\n",
      "Epoch 6/50\n",
      "50000/50000 [==============================] - 78s 2ms/step - loss: 0.6806 - acc: 0.7674 - val_loss: 0.8301 - val_acc: 0.7231\n",
      "Epoch 7/50\n",
      "50000/50000 [==============================] - 78s 2ms/step - loss: 0.5957 - acc: 0.7944 - val_loss: 0.8103 - val_acc: 0.7316\n",
      "Epoch 8/50\n",
      "50000/50000 [==============================] - 78s 2ms/step - loss: 0.5179 - acc: 0.8236 - val_loss: 0.8701 - val_acc: 0.7237\n",
      "Epoch 9/50\n",
      "50000/50000 [==============================] - 78s 2ms/step - loss: 0.4406 - acc: 0.8498 - val_loss: 0.9050 - val_acc: 0.7182\n",
      "Epoch 10/50\n",
      "50000/50000 [==============================] - 78s 2ms/step - loss: 0.3601 - acc: 0.8763 - val_loss: 0.9393 - val_acc: 0.7227\n",
      "Epoch 11/50\n",
      "50000/50000 [==============================] - 78s 2ms/step - loss: 0.3045 - acc: 0.8952 - val_loss: 1.0044 - val_acc: 0.7227\n",
      "Epoch 12/50\n",
      "50000/50000 [==============================] - 78s 2ms/step - loss: 0.2563 - acc: 0.9125 - val_loss: 1.1084 - val_acc: 0.7137\n",
      "Epoch 13/50\n",
      "50000/50000 [==============================] - 78s 2ms/step - loss: 0.2102 - acc: 0.9279 - val_loss: 1.1652 - val_acc: 0.7159\n",
      "Epoch 14/50\n",
      "50000/50000 [==============================] - 78s 2ms/step - loss: 0.1795 - acc: 0.9391 - val_loss: 1.3732 - val_acc: 0.6979\n",
      "Epoch 15/50\n",
      "50000/50000 [==============================] - 78s 2ms/step - loss: 0.1591 - acc: 0.9461 - val_loss: 1.2937 - val_acc: 0.7127\n",
      "Epoch 16/50\n",
      "50000/50000 [==============================] - 78s 2ms/step - loss: 0.1251 - acc: 0.9573 - val_loss: 1.4013 - val_acc: 0.7103\n",
      "Epoch 17/50\n",
      "50000/50000 [==============================] - 7279s 146ms/step - loss: 0.1226 - acc: 0.9589 - val_loss: 1.4607 - val_acc: 0.7150\n",
      "Epoch 18/50\n",
      "50000/50000 [==============================] - 22249s 445ms/step - loss: 0.0996 - acc: 0.9677 - val_loss: 1.5449 - val_acc: 0.7090\n",
      "Epoch 19/50\n",
      "50000/50000 [==============================] - 91s 2ms/step - loss: 0.0999 - acc: 0.9665 - val_loss: 1.6245 - val_acc: 0.6966\n",
      "Epoch 20/50\n",
      "50000/50000 [==============================] - 86s 2ms/step - loss: 0.0871 - acc: 0.9709 - val_loss: 1.7402 - val_acc: 0.7028\n",
      "Epoch 21/50\n",
      "50000/50000 [==============================] - 89s 2ms/step - loss: 0.0889 - acc: 0.9702 - val_loss: 1.6814 - val_acc: 0.7115\n",
      "Epoch 22/50\n",
      "50000/50000 [==============================] - 84s 2ms/step - loss: 0.0740 - acc: 0.9754 - val_loss: 1.7668 - val_acc: 0.6997\n",
      "Epoch 23/50\n",
      "50000/50000 [==============================] - 82s 2ms/step - loss: 0.0714 - acc: 0.9772 - val_loss: 1.7418 - val_acc: 0.7075\n",
      "Epoch 24/50\n",
      "50000/50000 [==============================] - 84s 2ms/step - loss: 0.0689 - acc: 0.9773 - val_loss: 1.8550 - val_acc: 0.7056\n",
      "Epoch 25/50\n",
      "50000/50000 [==============================] - 83s 2ms/step - loss: 0.0679 - acc: 0.9782 - val_loss: 1.8543 - val_acc: 0.7064\n",
      "Epoch 26/50\n",
      "50000/50000 [==============================] - 83s 2ms/step - loss: 0.0678 - acc: 0.9775 - val_loss: 1.9014 - val_acc: 0.7036\n",
      "Epoch 27/50\n",
      "50000/50000 [==============================] - 81s 2ms/step - loss: 0.0600 - acc: 0.9803 - val_loss: 1.8747 - val_acc: 0.7128\n",
      "Epoch 28/50\n",
      "50000/50000 [==============================] - 83s 2ms/step - loss: 0.0526 - acc: 0.9824 - val_loss: 1.9714 - val_acc: 0.7082\n",
      "Epoch 29/50\n",
      "50000/50000 [==============================] - 83s 2ms/step - loss: 0.0590 - acc: 0.9812 - val_loss: 1.8802 - val_acc: 0.7059\n",
      "Epoch 30/50\n",
      "50000/50000 [==============================] - 81s 2ms/step - loss: 0.0577 - acc: 0.9810 - val_loss: 2.0077 - val_acc: 0.7083\n",
      "Epoch 31/50\n",
      "50000/50000 [==============================] - 83s 2ms/step - loss: 0.0490 - acc: 0.9835 - val_loss: 1.9958 - val_acc: 0.7179\n",
      "Epoch 32/50\n",
      "50000/50000 [==============================] - 82s 2ms/step - loss: 0.0518 - acc: 0.9830 - val_loss: 2.0103 - val_acc: 0.7024\n",
      "Epoch 33/50\n",
      "50000/50000 [==============================] - 79s 2ms/step - loss: 0.0529 - acc: 0.9823 - val_loss: 2.0189 - val_acc: 0.7103\n",
      "Epoch 34/50\n",
      "50000/50000 [==============================] - 78s 2ms/step - loss: 0.0498 - acc: 0.9833 - val_loss: 2.0448 - val_acc: 0.7084\n",
      "Epoch 35/50\n",
      "50000/50000 [==============================] - 78s 2ms/step - loss: 0.0458 - acc: 0.9854 - val_loss: 2.0840 - val_acc: 0.7172\n",
      "Epoch 36/50\n",
      "50000/50000 [==============================] - 80s 2ms/step - loss: 0.0472 - acc: 0.9850 - val_loss: 2.1367 - val_acc: 0.6972\n",
      "Epoch 37/50\n",
      "50000/50000 [==============================] - 82s 2ms/step - loss: 0.0527 - acc: 0.9832 - val_loss: 2.1197 - val_acc: 0.7084\n",
      "Epoch 38/50\n",
      "50000/50000 [==============================] - 82s 2ms/step - loss: 0.0438 - acc: 0.9857 - val_loss: 2.1573 - val_acc: 0.7121\n",
      "Epoch 39/50\n",
      "50000/50000 [==============================] - 82s 2ms/step - loss: 0.0405 - acc: 0.9872 - val_loss: 2.1452 - val_acc: 0.7087\n",
      "Epoch 40/50\n",
      "50000/50000 [==============================] - 82s 2ms/step - loss: 0.0373 - acc: 0.9880 - val_loss: 2.2279 - val_acc: 0.7095\n",
      "Epoch 41/50\n",
      "50000/50000 [==============================] - 82s 2ms/step - loss: 0.0516 - acc: 0.9844 - val_loss: 2.1961 - val_acc: 0.7069\n",
      "Epoch 42/50\n",
      "50000/50000 [==============================] - 82s 2ms/step - loss: 0.0383 - acc: 0.9876 - val_loss: 2.1744 - val_acc: 0.7042\n",
      "Epoch 43/50\n",
      "50000/50000 [==============================] - 82s 2ms/step - loss: 0.0474 - acc: 0.9844 - val_loss: 2.1851 - val_acc: 0.7075\n",
      "Epoch 44/50\n",
      "50000/50000 [==============================] - 82s 2ms/step - loss: 0.0404 - acc: 0.9872 - val_loss: 2.1989 - val_acc: 0.7067\n",
      "Epoch 45/50\n",
      "50000/50000 [==============================] - 82s 2ms/step - loss: 0.0381 - acc: 0.9878 - val_loss: 2.2731 - val_acc: 0.7115\n",
      "Epoch 46/50\n",
      "50000/50000 [==============================] - 82s 2ms/step - loss: 0.0319 - acc: 0.9898 - val_loss: 2.3207 - val_acc: 0.7043\n",
      "Epoch 47/50\n",
      "50000/50000 [==============================] - 82s 2ms/step - loss: 0.0456 - acc: 0.9860 - val_loss: 2.3028 - val_acc: 0.7119\n",
      "Epoch 48/50\n",
      "50000/50000 [==============================] - 82s 2ms/step - loss: 0.0379 - acc: 0.9878 - val_loss: 2.2497 - val_acc: 0.7096\n",
      "Epoch 49/50\n",
      "50000/50000 [==============================] - 82s 2ms/step - loss: 0.0393 - acc: 0.9872 - val_loss: 2.2484 - val_acc: 0.7128\n",
      "Epoch 50/50\n",
      "50000/50000 [==============================] - 82s 2ms/step - loss: 0.0394 - acc: 0.9873 - val_loss: 2.2932 - val_acc: 0.7152\n"
     ]
    }
   ],
   "source": [
    "#   Train the model and test/validate the mode with the test data after each cycle (epoch) through the training data\n",
    "#   Return history of loss and accuracy for each epoch\n",
    "\n",
    "model.compile(loss=keras.losses.categorical_crossentropy,\n",
    "              optimizer=keras.optimizers.Adam(lr=0.001),\n",
    "              metrics=['accuracy'])\n",
    "\n",
    "#   Train the model and test/validate the mode with the test data after each cycle (epoch) through the training data\n",
    "#   Return history of loss and accuracy for each epoch\n",
    "hist = model.fit(x_train, y_train,\n",
    "          batch_size=batch_size,\n",
    "          epochs=epochs,\n",
    "          verbose=1,\n",
    "          validation_data=(x_test, y_test))"
   ]
  },
  {
   "cell_type": "code",
   "execution_count": 20,
   "metadata": {},
   "outputs": [
    {
     "name": "stdout",
     "output_type": "stream",
     "text": [
      "Test loss: 2.293194534111023\n",
      "Test accuracy: 0.7152\n"
     ]
    },
    {
     "data": {
      "text/plain": [
       "<Figure size 432x288 with 0 Axes>"
      ]
     },
     "execution_count": 20,
     "metadata": {},
     "output_type": "execute_result"
    },
    {
     "data": {
      "image/png": "[encoded data removed]",
      "text/plain": [
       "<Figure size 432x288 with 1 Axes>"
      ]
     },
     "metadata": {
      "needs_background": "light"
     },
     "output_type": "display_data"
    },
    {
     "data": {
      "image/png": "[encoded data removed]",
      "text/plain": [
       "<Figure size 432x288 with 1 Axes>"
      ]
     },
     "metadata": {
      "needs_background": "light"
     },
     "output_type": "display_data"
    },
    {
     "data": {
      "text/plain": [
       "<Figure size 432x288 with 0 Axes>"
      ]
     },
     "metadata": {},
     "output_type": "display_data"
    }
   ],
   "source": [
    "#   Evaluate the model with the test data to get the scores on \"real\" data.\n",
    "score = model.evaluate(x_test, y_test, verbose=0)\n",
    "print('Test loss:', score[0])\n",
    "print('Test accuracy:', score[1])\n",
    "\n",
    "#   Plot data to see relationships in training and validation data\n",
    "import numpy as np\n",
    "import matplotlib.pyplot as plt\n",
    "%matplotlib inline\n",
    "epoch_list = list(range(1, len(hist.history['acc']) + 1))  # values for x axis [1, 2, ..., # of epochs]\n",
    "plt.plot(epoch_list, hist.history['acc'], epoch_list, hist.history['val_acc'])\n",
    "plt.legend(('Training Accuracy', 'Validation Accuracy'))\n",
    "plt.figure()\n",
    "\n",
    "epoch_list1 = list(range(1, len(hist.history['loss']) + 1))  # values for x axis [1, 2, ..., # of epochs]\n",
    "plt.plot(epoch_list1, hist.history['loss'], epoch_list, hist.history['val_loss'])\n",
    "plt.legend(('Training Loss', 'Validation Loss'))\n",
    "plt.figure()\n"
   ]
  },
  {
   "cell_type": "markdown",
   "metadata": {},
   "source": [
    "# Data Augmentation"
   ]
  },
  {
   "cell_type": "markdown",
   "metadata": {},
   "source": [
    "### Augment the sample by changing the features of the picture\n",
    "### Prevent Overfit"
   ]
  },
  {
   "cell_type": "code",
   "execution_count": 21,
   "metadata": {},
   "outputs": [],
   "source": [
    "from keras_preprocessing import image\n",
    "from keras_preprocessing.image import ImageDataGenerator"
   ]
  },
  {
   "cell_type": "code",
   "execution_count": 22,
   "metadata": {},
   "outputs": [],
   "source": [
    "datagen = ImageDataGenerator(\n",
    "            rotation_range = 40,width_shift_range = 0.2, height_shift_range = 0.2,\n",
    "            shear_range = 0.2, zoom_range = 0.2, horizontal_flip = True, fill_mode = 'nearest')"
   ]
  },
  {
   "cell_type": "code",
   "execution_count": 23,
   "metadata": {},
   "outputs": [
    {
     "data": {
      "text/plain": [
       "<matplotlib.image.AxesImage at 0x236dea30b00>"
      ]
     },
     "execution_count": 23,
     "metadata": {},
     "output_type": "execute_result"
    },
    {
     "data": {
      "image/png": "[encoded data removed]",
      "text/plain": [
       "<Figure size 432x288 with 1 Axes>"
      ]
     },
     "metadata": {
      "needs_background": "light"
     },
     "output_type": "display_data"
    }
   ],
   "source": [
    "plt.imshow(x_train[0])"
   ]
  },
  {
   "cell_type": "code",
   "execution_count": 24,
   "metadata": {},
   "outputs": [
    {
     "data": {
      "image/png": "[encoded data removed]",
      "text/plain": [
       "<Figure size 432x288 with 1 Axes>"
      ]
     },
     "metadata": {
      "needs_background": "light"
     },
     "output_type": "display_data"
    },
    {
     "data": {
      "image/png": "[encoded data removed]",
      "text/plain": [
       "<Figure size 432x288 with 1 Axes>"
      ]
     },
     "metadata": {
      "needs_background": "light"
     },
     "output_type": "display_data"
    },
    {
     "data": {
      "image/png": "[encoded data removed]",
      "text/plain": [
       "<Figure size 432x288 with 1 Axes>"
      ]
     },
     "metadata": {
      "needs_background": "light"
     },
     "output_type": "display_data"
    },
    {
     "data": {
      "image/png": "[encoded data removed]",
      "text/plain": [
       "<Figure size 432x288 with 1 Axes>"
      ]
     },
     "metadata": {
      "needs_background": "light"
     },
     "output_type": "display_data"
    }
   ],
   "source": [
    "i = 0\n",
    "\n",
    "for batch in datagen.flow(x_train, batch_size = 1):\n",
    "    plt.figure()\n",
    "    imgplot = plt.imshow(image.array_to_img(batch[0]))\n",
    "    i += 1\n",
    "    if i%4 == 0:\n",
    "        break\n",
    "plt.show()"
   ]
  },
  {
   "cell_type": "markdown",
   "metadata": {},
   "source": [
    "## Build up another model"
   ]
  },
  {
   "cell_type": "code",
   "execution_count": 25,
   "metadata": {},
   "outputs": [
    {
     "name": "stdout",
     "output_type": "stream",
     "text": [
      "_________________________________________________________________\n",
      "Layer (type)                 Output Shape              Param #   \n",
      "=================================================================\n",
      "conv2d_3 (Conv2D)            (None, 32, 32, 32)        896       \n",
      "_________________________________________________________________\n",
      "max_pooling2d_3 (MaxPooling2 (None, 16, 16, 32)        0         \n",
      "_________________________________________________________________\n",
      "conv2d_4 (Conv2D)            (None, 16, 16, 64)        18496     \n",
      "_________________________________________________________________\n",
      "max_pooling2d_4 (MaxPooling2 (None, 8, 8, 64)          0         \n",
      "_________________________________________________________________\n",
      "flatten_2 (Flatten)          (None, 4096)              0         \n",
      "_________________________________________________________________\n",
      "dense_4 (Dense)              (None, 1024)              4195328   \n",
      "_________________________________________________________________\n",
      "dense_5 (Dense)              (None, 128)               131200    \n",
      "_________________________________________________________________\n",
      "dropout_2 (Dropout)          (None, 128)               0         \n",
      "_________________________________________________________________\n",
      "dense_6 (Dense)              (None, 10)                1290      \n",
      "=================================================================\n",
      "Total params: 4,347,210\n",
      "Trainable params: 4,347,210\n",
      "Non-trainable params: 0\n",
      "_________________________________________________________________\n"
     ]
    }
   ],
   "source": [
    "model1 = Sequential()\n",
    "\n",
    "model1.add(Conv2D(32, kernel_size=(3, 3),\n",
    "                  activation='relu',\n",
    "                 padding='same',\n",
    "                 strides=(1,1),\n",
    "                  input_shape=input_shape))\n",
    "model1.add(MaxPooling2D(pool_size=(2, 2), strides=(2, 2)))\n",
    "\n",
    "model1.add(Conv2D(64, kernel_size=(3, 3), strides=(1, 1), padding='same',activation='relu',input_shape = ()))\n",
    "model1.add(MaxPooling2D(pool_size=(2, 2)))\n",
    "\n",
    "model1.add(Flatten())\n",
    "model1.add(Dense(1024, activation='relu'))\n",
    "model1.add(Dense(128, activation='relu'))\n",
    "model1.add(Dropout(0.5))\n",
    "model1.add(Dense(num_classes, activation='softmax'))\n",
    "\n",
    "model1.summary()"
   ]
  },
  {
   "cell_type": "code",
   "execution_count": 26,
   "metadata": {},
   "outputs": [],
   "source": [
    "model1.compile(loss=keras.losses.categorical_crossentropy,\n",
    "              optimizer=keras.optimizers.Adam(lr=0.001),\n",
    "              metrics=['accuracy'])"
   ]
  },
  {
   "cell_type": "code",
   "execution_count": 27,
   "metadata": {},
   "outputs": [
    {
     "name": "stdout",
     "output_type": "stream",
     "text": [
      "Epoch 1/50\n",
      "390/390 [==============================] - 111s 285ms/step - loss: 1.8766 - acc: 0.3053 - val_loss: 1.4624 - val_acc: 0.4763\n",
      "Epoch 2/50\n",
      "390/390 [==============================] - 111s 284ms/step - loss: 1.6223 - acc: 0.4182 - val_loss: 1.2905 - val_acc: 0.5392\n",
      "Epoch 3/50\n",
      "390/390 [==============================] - 111s 284ms/step - loss: 1.5058 - acc: 0.4642 - val_loss: 1.3924 - val_acc: 0.5021\n",
      "Epoch 4/50\n",
      "390/390 [==============================] - 111s 284ms/step - loss: 1.4365 - acc: 0.4916 - val_loss: 1.2053 - val_acc: 0.5630\n",
      "Epoch 5/50\n",
      "390/390 [==============================] - 111s 284ms/step - loss: 1.3615 - acc: 0.5186 - val_loss: 1.2050 - val_acc: 0.5736\n",
      "Epoch 6/50\n",
      "390/390 [==============================] - 111s 284ms/step - loss: 1.3270 - acc: 0.5338 - val_loss: 1.1035 - val_acc: 0.6070\n",
      "Epoch 7/50\n",
      "390/390 [==============================] - 111s 284ms/step - loss: 1.2880 - acc: 0.5447 - val_loss: 1.0971 - val_acc: 0.6105\n",
      "Epoch 8/50\n",
      "390/390 [==============================] - 111s 284ms/step - loss: 1.2565 - acc: 0.5560 - val_loss: 0.9988 - val_acc: 0.6468\n",
      "Epoch 9/50\n",
      "390/390 [==============================] - 111s 284ms/step - loss: 1.2153 - acc: 0.5771 - val_loss: 1.0823 - val_acc: 0.6198\n",
      "Epoch 10/50\n",
      "390/390 [==============================] - 111s 283ms/step - loss: 1.1978 - acc: 0.5804 - val_loss: 1.0073 - val_acc: 0.6450\n",
      "Epoch 11/50\n",
      "390/390 [==============================] - 111s 284ms/step - loss: 1.1738 - acc: 0.5873 - val_loss: 1.0478 - val_acc: 0.6385\n",
      "Epoch 12/50\n",
      "390/390 [==============================] - 112s 286ms/step - loss: 1.1573 - acc: 0.5956 - val_loss: 0.9670 - val_acc: 0.6529\n",
      "Epoch 13/50\n",
      "390/390 [==============================] - 111s 284ms/step - loss: 1.1478 - acc: 0.5995 - val_loss: 1.0485 - val_acc: 0.6305\n",
      "Epoch 14/50\n",
      "390/390 [==============================] - 111s 284ms/step - loss: 1.1243 - acc: 0.6082 - val_loss: 0.9561 - val_acc: 0.6612\n",
      "Epoch 15/50\n",
      "390/390 [==============================] - 110s 283ms/step - loss: 1.1080 - acc: 0.6147 - val_loss: 0.9759 - val_acc: 0.6539\n",
      "Epoch 16/50\n",
      "390/390 [==============================] - 111s 283ms/step - loss: 1.0927 - acc: 0.6166 - val_loss: 1.0054 - val_acc: 0.6463\n",
      "Epoch 17/50\n",
      "390/390 [==============================] - 111s 284ms/step - loss: 1.0876 - acc: 0.6198 - val_loss: 0.8870 - val_acc: 0.6865\n",
      "Epoch 18/50\n",
      "390/390 [==============================] - 110s 283ms/step - loss: 1.0730 - acc: 0.6255 - val_loss: 0.9430 - val_acc: 0.6701\n",
      "Epoch 19/50\n",
      "390/390 [==============================] - 111s 284ms/step - loss: 1.0601 - acc: 0.6334 - val_loss: 0.9035 - val_acc: 0.6833\n",
      "Epoch 20/50\n",
      "390/390 [==============================] - 111s 284ms/step - loss: 1.0455 - acc: 0.6372 - val_loss: 0.8957 - val_acc: 0.6859\n",
      "Epoch 21/50\n",
      "390/390 [==============================] - 111s 284ms/step - loss: 1.0323 - acc: 0.6415 - val_loss: 0.8802 - val_acc: 0.6922\n",
      "Epoch 22/50\n",
      "390/390 [==============================] - 111s 285ms/step - loss: 1.0284 - acc: 0.6438 - val_loss: 0.8900 - val_acc: 0.6860\n",
      "Epoch 23/50\n",
      "390/390 [==============================] - 111s 285ms/step - loss: 1.0103 - acc: 0.6483 - val_loss: 0.8495 - val_acc: 0.7029\n",
      "Epoch 24/50\n",
      "390/390 [==============================] - 111s 284ms/step - loss: 1.0080 - acc: 0.6482 - val_loss: 0.9274 - val_acc: 0.6784\n",
      "Epoch 25/50\n",
      "390/390 [==============================] - 111s 283ms/step - loss: 0.9973 - acc: 0.6523 - val_loss: 0.8570 - val_acc: 0.6983\n",
      "Epoch 26/50\n",
      "390/390 [==============================] - 111s 284ms/step - loss: 0.9901 - acc: 0.6563 - val_loss: 0.8503 - val_acc: 0.7025\n",
      "Epoch 27/50\n",
      "390/390 [==============================] - 111s 283ms/step - loss: 0.9850 - acc: 0.6596 - val_loss: 0.9071 - val_acc: 0.6868\n",
      "Epoch 28/50\n",
      "390/390 [==============================] - 111s 284ms/step - loss: 0.9814 - acc: 0.6605 - val_loss: 0.8343 - val_acc: 0.7068\n",
      "Epoch 29/50\n",
      "390/390 [==============================] - 111s 283ms/step - loss: 0.9719 - acc: 0.6628 - val_loss: 0.8362 - val_acc: 0.7097\n",
      "Epoch 30/50\n",
      "390/390 [==============================] - 111s 284ms/step - loss: 0.9657 - acc: 0.6672 - val_loss: 0.8363 - val_acc: 0.7097\n",
      "Epoch 31/50\n",
      "390/390 [==============================] - 111s 284ms/step - loss: 0.9569 - acc: 0.6699 - val_loss: 0.8526 - val_acc: 0.7105\n",
      "Epoch 32/50\n",
      "390/390 [==============================] - 111s 284ms/step - loss: 0.9520 - acc: 0.6675 - val_loss: 0.8641 - val_acc: 0.7031\n",
      "Epoch 33/50\n",
      "390/390 [==============================] - 111s 284ms/step - loss: 0.9414 - acc: 0.6715 - val_loss: 0.9252 - val_acc: 0.6882\n",
      "Epoch 34/50\n",
      "390/390 [==============================] - 111s 284ms/step - loss: 0.9353 - acc: 0.6757 - val_loss: 0.8860 - val_acc: 0.6940\n",
      "Epoch 35/50\n",
      "390/390 [==============================] - 111s 284ms/step - loss: 0.9271 - acc: 0.6769 - val_loss: 0.8249 - val_acc: 0.7121\n",
      "Epoch 36/50\n",
      "390/390 [==============================] - 111s 285ms/step - loss: 0.9260 - acc: 0.6801 - val_loss: 0.8614 - val_acc: 0.7071\n",
      "Epoch 37/50\n",
      "390/390 [==============================] - 111s 285ms/step - loss: 0.9156 - acc: 0.6822 - val_loss: 0.8163 - val_acc: 0.7190\n",
      "Epoch 38/50\n",
      "390/390 [==============================] - 111s 284ms/step - loss: 0.9174 - acc: 0.6832 - val_loss: 0.8556 - val_acc: 0.7077\n",
      "Epoch 39/50\n",
      "390/390 [==============================] - 113s 289ms/step - loss: 0.9047 - acc: 0.6873 - val_loss: 0.8616 - val_acc: 0.7044\n",
      "Epoch 40/50\n",
      "390/390 [==============================] - 111s 284ms/step - loss: 0.9077 - acc: 0.6887 - val_loss: 0.8007 - val_acc: 0.7244\n",
      "Epoch 41/50\n",
      "390/390 [==============================] - 111s 285ms/step - loss: 0.8939 - acc: 0.6888 - val_loss: 0.8106 - val_acc: 0.7257\n",
      "Epoch 42/50\n",
      "390/390 [==============================] - 111s 285ms/step - loss: 0.8975 - acc: 0.6883 - val_loss: 0.8353 - val_acc: 0.7133\n",
      "Epoch 43/50\n",
      "390/390 [==============================] - 111s 284ms/step - loss: 0.8795 - acc: 0.6981 - val_loss: 0.8301 - val_acc: 0.7174\n",
      "Epoch 44/50\n",
      "390/390 [==============================] - 111s 285ms/step - loss: 0.8810 - acc: 0.6957 - val_loss: 0.7792 - val_acc: 0.7343\n",
      "Epoch 45/50\n",
      "390/390 [==============================] - 111s 284ms/step - loss: 0.8811 - acc: 0.6946 - val_loss: 0.8009 - val_acc: 0.7308\n",
      "Epoch 46/50\n",
      "390/390 [==============================] - 111s 284ms/step - loss: 0.8778 - acc: 0.6957 - val_loss: 0.7737 - val_acc: 0.7379\n",
      "Epoch 47/50\n",
      "390/390 [==============================] - 111s 285ms/step - loss: 0.8728 - acc: 0.6949 - val_loss: 0.8186 - val_acc: 0.7227\n",
      "Epoch 48/50\n",
      "390/390 [==============================] - 111s 284ms/step - loss: 0.8704 - acc: 0.7006 - val_loss: 0.8272 - val_acc: 0.7221\n",
      "Epoch 49/50\n",
      "390/390 [==============================] - 112s 286ms/step - loss: 0.8622 - acc: 0.7006 - val_loss: 0.8543 - val_acc: 0.7169\n",
      "Epoch 50/50\n",
      "390/390 [==============================] - 112s 287ms/step - loss: 0.8591 - acc: 0.7037 - val_loss: 0.8275 - val_acc: 0.7211\n"
     ]
    }
   ],
   "source": [
    "H = model1.fit_generator(datagen.flow(x_train, y_train, batch_size=batch_size),\n",
    "    validation_data=(x_test, y_test), steps_per_epoch=len(x_train) // batch_size,\n",
    "    epochs=epochs)"
   ]
  },
  {
   "cell_type": "code",
   "execution_count": 28,
   "metadata": {},
   "outputs": [
    {
     "name": "stdout",
     "output_type": "stream",
     "text": [
      "Test loss: 2.293194534111023\n",
      "Test accuracy: 0.7152\n"
     ]
    },
    {
     "data": {
      "text/plain": [
       "<Figure size 432x288 with 0 Axes>"
      ]
     },
     "execution_count": 28,
     "metadata": {},
     "output_type": "execute_result"
    },
    {
     "data": {
      "image/png": "[encoded data removed]",
      "text/plain": [
       "<Figure size 432x288 with 1 Axes>"
      ]
     },
     "metadata": {
      "needs_background": "light"
     },
     "output_type": "display_data"
    },
    {
     "data": {
      "image/png": "[encoded data removed]",
      "text/plain": [
       "<Figure size 432x288 with 1 Axes>"
      ]
     },
     "metadata": {
      "needs_background": "light"
     },
     "output_type": "display_data"
    },
    {
     "data": {
      "text/plain": [
       "<Figure size 432x288 with 0 Axes>"
      ]
     },
     "metadata": {},
     "output_type": "display_data"
    }
   ],
   "source": [
    "#   Evaluate the model with the test data to get the scores on \"real\" data.\n",
    "score1 = model1.evaluate(x_test, y_test, verbose=0)\n",
    "print('Test loss:', score[0])\n",
    "print('Test accuracy:', score[1])\n",
    "\n",
    "#   Plot data to see relationships in training and validation data\n",
    "import numpy as np\n",
    "import matplotlib.pyplot as plt\n",
    "%matplotlib inline\n",
    "epoch_list1 = list(range(1, len(H.history['acc']) + 1))  # values for x axis [1, 2, ..., # of epochs]\n",
    "plt.plot(epoch_list1, H.history['acc'], epoch_list, hist.history['val_acc'])\n",
    "plt.legend(('Training Accuracy', 'Validation Accuracy'))\n",
    "plt.figure()\n",
    "\n",
    "epoch_list1 = list(range(1, len(H.history['loss']) + 1))  # values for x axis [1, 2, ..., # of epochs]\n",
    "plt.plot(epoch_list1, H.history['loss'], epoch_list1, H.history['val_loss'])\n",
    "plt.legend(('Training Loss', 'Validation Loss'))\n",
    "plt.figure()"
   ]
  },
  {
   "cell_type": "markdown",
   "metadata": {},
   "source": [
    "# Pre-trained model - VGG 16"
   ]
  },
  {
   "cell_type": "code",
   "execution_count": 29,
   "metadata": {},
   "outputs": [],
   "source": [
    "from keras.applications import VGG16"
   ]
  },
  {
   "cell_type": "code",
   "execution_count": 30,
   "metadata": {},
   "outputs": [],
   "source": [
    "VGG_base = VGG16(weights='imagenet', include_top=False, input_shape = input_shape)\n",
    "VGG_base.trainable = False"
   ]
  },
  {
   "cell_type": "code",
   "execution_count": 31,
   "metadata": {},
   "outputs": [
    {
     "name": "stdout",
     "output_type": "stream",
     "text": [
      "_________________________________________________________________\n",
      "Layer (type)                 Output Shape              Param #   \n",
      "=================================================================\n",
      "input_1 (InputLayer)         (None, 32, 32, 3)         0         \n",
      "_________________________________________________________________\n",
      "block1_conv1 (Conv2D)        (None, 32, 32, 64)        1792      \n",
      "_________________________________________________________________\n",
      "block1_conv2 (Conv2D)        (None, 32, 32, 64)        36928     \n",
      "_________________________________________________________________\n",
      "block1_pool (MaxPooling2D)   (None, 16, 16, 64)        0         \n",
      "_________________________________________________________________\n",
      "block2_conv1 (Conv2D)        (None, 16, 16, 128)       73856     \n",
      "_________________________________________________________________\n",
      "block2_conv2 (Conv2D)        (None, 16, 16, 128)       147584    \n",
      "_________________________________________________________________\n",
      "block2_pool (MaxPooling2D)   (None, 8, 8, 128)         0         \n",
      "_________________________________________________________________\n",
      "block3_conv1 (Conv2D)        (None, 8, 8, 256)         295168    \n",
      "_________________________________________________________________\n",
      "block3_conv2 (Conv2D)        (None, 8, 8, 256)         590080    \n",
      "_________________________________________________________________\n",
      "block3_conv3 (Conv2D)        (None, 8, 8, 256)         590080    \n",
      "_________________________________________________________________\n",
      "block3_pool (MaxPooling2D)   (None, 4, 4, 256)         0         \n",
      "_________________________________________________________________\n",
      "block4_conv1 (Conv2D)        (None, 4, 4, 512)         1180160   \n",
      "_________________________________________________________________\n",
      "block4_conv2 (Conv2D)        (None, 4, 4, 512)         2359808   \n",
      "_________________________________________________________________\n",
      "block4_conv3 (Conv2D)        (None, 4, 4, 512)         2359808   \n",
      "_________________________________________________________________\n",
      "block4_pool (MaxPooling2D)   (None, 2, 2, 512)         0         \n",
      "_________________________________________________________________\n",
      "block5_conv1 (Conv2D)        (None, 2, 2, 512)         2359808   \n",
      "_________________________________________________________________\n",
      "block5_conv2 (Conv2D)        (None, 2, 2, 512)         2359808   \n",
      "_________________________________________________________________\n",
      "block5_conv3 (Conv2D)        (None, 2, 2, 512)         2359808   \n",
      "_________________________________________________________________\n",
      "block5_pool (MaxPooling2D)   (None, 1, 1, 512)         0         \n",
      "=================================================================\n",
      "Total params: 14,714,688\n",
      "Trainable params: 0\n",
      "Non-trainable params: 14,714,688\n",
      "_________________________________________________________________\n"
     ]
    }
   ],
   "source": [
    "VGG_base.summary()"
   ]
  },
  {
   "cell_type": "code",
   "execution_count": 32,
   "metadata": {},
   "outputs": [
    {
     "name": "stdout",
     "output_type": "stream",
     "text": [
      "_________________________________________________________________\n",
      "Layer (type)                 Output Shape              Param #   \n",
      "=================================================================\n",
      "vgg16 (Model)                (None, 1, 1, 512)         14714688  \n",
      "_________________________________________________________________\n",
      "flatten_3 (Flatten)          (None, 512)               0         \n",
      "_________________________________________________________________\n",
      "dense_7 (Dense)              (None, 1024)              525312    \n",
      "_________________________________________________________________\n",
      "dense_8 (Dense)              (None, 512)               524800    \n",
      "_________________________________________________________________\n",
      "dropout_3 (Dropout)          (None, 512)               0         \n",
      "_________________________________________________________________\n",
      "dense_9 (Dense)              (None, 10)                5130      \n",
      "=================================================================\n",
      "Total params: 15,769,930\n",
      "Trainable params: 1,055,242\n",
      "Non-trainable params: 14,714,688\n",
      "_________________________________________________________________\n"
     ]
    }
   ],
   "source": [
    "model2 = Sequential()\n",
    "\n",
    "model2.add(VGG_base)\n",
    "model2.add(Flatten())\n",
    "model2.add(Dense(1024, activation='relu'))\n",
    "model2.add(Dense(512, activation='relu'))\n",
    "model2.add(Dropout(0.3))\n",
    "model2.add(Dense(num_classes, activation='softmax'))\n",
    "\n",
    "model2.summary()"
   ]
  },
  {
   "cell_type": "code",
   "execution_count": 33,
   "metadata": {},
   "outputs": [
    {
     "name": "stdout",
     "output_type": "stream",
     "text": [
      "Epoch 1/3\n",
      "390/390 [==============================] - 568s 1s/step - loss: 1.6263 - acc: 0.4189 - val_loss: 1.3631 - val_acc: 0.5134\n",
      "Epoch 2/3\n",
      "390/390 [==============================] - 560s 1s/step - loss: 1.4720 - acc: 0.4783 - val_loss: 1.3396 - val_acc: 0.5208\n",
      "Epoch 3/3\n",
      "390/390 [==============================] - 559s 1s/step - loss: 1.4231 - acc: 0.5008 - val_loss: 1.2464 - val_acc: 0.5607\n"
     ]
    }
   ],
   "source": [
    "model2.compile(loss=keras.losses.categorical_crossentropy,\n",
    "              optimizer=keras.optimizers.Adam(lr=0.001),\n",
    "              metrics=['accuracy'])\n",
    "\n",
    "H2 = model2.fit_generator(datagen.flow(x_train, y_train, batch_size=batch_size),\n",
    "    validation_data=(x_test, y_test), steps_per_epoch=len(x_train) // batch_size,\n",
    "    epochs=3)"
   ]
  },
  {
   "cell_type": "markdown",
   "metadata": {},
   "source": [
    "# Prediction"
   ]
  },
  {
   "cell_type": "code",
   "execution_count": 34,
   "metadata": {},
   "outputs": [],
   "source": [
    "class_names = ['airplane', 'automobile', 'bird', 'cat', 'deer', \n",
    "               'dog', 'frog', 'horse', 'ship', 'truck']"
   ]
  },
  {
   "cell_type": "code",
   "execution_count": 56,
   "metadata": {},
   "outputs": [],
   "source": [
    "y_pred = model.predict(x_test)\n",
    "y_pred = np.argmax(y_pred, axis = 1)"
   ]
  },
  {
   "cell_type": "code",
   "execution_count": 57,
   "metadata": {},
   "outputs": [
    {
     "data": {
      "text/plain": [
       "array([3, 1, 8, ..., 5, 1, 7], dtype=int64)"
      ]
     },
     "execution_count": 57,
     "metadata": {},
     "output_type": "execute_result"
    }
   ],
   "source": [
    "y_pred"
   ]
  },
  {
   "cell_type": "code",
   "execution_count": 61,
   "metadata": {},
   "outputs": [
    {
     "data": {
      "text/plain": [
       "array([3, 8, 8, ..., 5, 1, 7], dtype=int64)"
      ]
     },
     "execution_count": 61,
     "metadata": {},
     "output_type": "execute_result"
    }
   ],
   "source": [
    "max_y_test = np.argmax(y_test, axis = 1)\n",
    "max_y_test"
   ]
  },
  {
   "cell_type": "code",
   "execution_count": 39,
   "metadata": {},
   "outputs": [],
   "source": [
    "from sklearn.metrics import classification_report\n",
    "from sklearn.metrics import confusion_matrix"
   ]
  },
  {
   "cell_type": "code",
   "execution_count": 62,
   "metadata": {},
   "outputs": [
    {
     "name": "stdout",
     "output_type": "stream",
     "text": [
      "              precision    recall  f1-score   support\n",
      "\n",
      "           0       0.77      0.76      0.77      1000\n",
      "           1       0.78      0.88      0.82      1000\n",
      "           2       0.64      0.61      0.62      1000\n",
      "           3       0.50      0.51      0.51      1000\n",
      "           4       0.63      0.69      0.66      1000\n",
      "           5       0.60      0.62      0.61      1000\n",
      "           6       0.80      0.77      0.78      1000\n",
      "           7       0.75      0.76      0.76      1000\n",
      "           8       0.87      0.79      0.83      1000\n",
      "           9       0.84      0.75      0.79      1000\n",
      "\n",
      "   micro avg       0.72      0.72      0.72     10000\n",
      "   macro avg       0.72      0.72      0.72     10000\n",
      "weighted avg       0.72      0.72      0.72     10000\n",
      "\n"
     ]
    }
   ],
   "source": [
    "print(classification_report(max_y_test,y_pred))"
   ]
  },
  {
   "cell_type": "code",
   "execution_count": 69,
   "metadata": {},
   "outputs": [
    {
     "data": {
      "text/plain": [
       "array([[764,  32,  52,  22,  25,  13,   5,  14,  44,  29],\n",
       "       [ 18, 880,   4,   7,   4,  10,   4,   5,  17,  51],\n",
       "       [ 49,  10, 612,  65, 105,  65,  38,  37,  10,   9],\n",
       "       [ 17,  16,  73, 507,  83, 180,  64,  37,  12,  11],\n",
       "       [ 12,   5,  62,  66, 695,  36,  39,  75,   7,   3],\n",
       "       [ 10,  12,  52, 171,  50, 623,  17,  49,   5,  11],\n",
       "       [ 11,   2,  44,  79,  49,  36, 767,   4,   4,   4],\n",
       "       [ 21,   6,  37,  40,  64,  56,   6, 763,   0,   7],\n",
       "       [ 52,  56,  23,  21,  15,   6,   6,   7, 791,  23],\n",
       "       [ 34, 115,   3,  27,  10,   8,   9,  21,  23, 750]], dtype=int64)"
      ]
     },
     "execution_count": 69,
     "metadata": {},
     "output_type": "execute_result"
    }
   ],
   "source": [
    "import seaborn as sns\n",
    "conf_mat = confusion_matrix(max_y_test, y_pred)\n",
    "conf_mat"
   ]
  },
  {
   "cell_type": "code",
   "execution_count": 77,
   "metadata": {},
   "outputs": [
    {
     "data": {
      "text/plain": [
       "Text(0.5, 69.0, 'Predicted label')"
      ]
     },
     "execution_count": 77,
     "metadata": {},
     "output_type": "execute_result"
    },
    {
     "data": {
      "image/png": "[encoded data removed]",
      "text/plain": [
       "<Figure size 720x720 with 2 Axes>"
      ]
     },
     "metadata": {
      "needs_background": "light"
     },
     "output_type": "display_data"
    }
   ],
   "source": [
    "fig, ax = plt.subplots(figsize=(10,10))   \n",
    "\n",
    "conf_mat_normalized = conf_mat.astype('float') / conf_mat.sum(axis=1)[:, np.newaxis]\n",
    "sns.heatmap(conf_mat_normalized, annot = True)\n",
    "plt.ylabel('True label')\n",
    "plt.xlabel('Predicted label')"
   ]
  },
  {
   "cell_type": "code",
   "execution_count": 85,
   "metadata": {},
   "outputs": [
    {
     "name": "stdout",
     "output_type": "stream",
     "text": [
      "TP: 880 , FP: 254 , TN: 764 , FN: 224\n"
     ]
    }
   ],
   "source": [
    "def perf_measure(y_actual, y_pred):\n",
    "    TP = 0\n",
    "    FP = 0\n",
    "    TN = 0\n",
    "    FN = 0\n",
    "\n",
    "    for i in range(len(y_pred)): \n",
    "        if y_actual[i]==y_pred[i]==1:\n",
    "           TP += 1\n",
    "        if y_pred[i]==1 and y_actual[i]!=y_pred[i]:\n",
    "           FP += 1\n",
    "        if y_actual[i]==y_pred[i]==0:\n",
    "           TN += 1\n",
    "        if y_pred[i]==0 and y_actual[i]!=y_pred[i]:\n",
    "           FN += 1\n",
    "\n",
    "    print(\"TP:\",TP,\", FP:\", FP, \", TN:\", TN,\", FN:\",FN)\n",
    "\n",
    "perf_measure(max_y_test,y_pred)"
   ]
  }
 ],
 "metadata": {
  "kernelspec": {
   "display_name": "Python 3",
   "language": "python",
   "name": "python3"
  },
  "language_info": {
   "codemirror_mode": {
    "name": "ipython",
    "version": 3
   },
   "file_extension": ".py",
   "mimetype": "text/x-python",
   "name": "python",
   "nbconvert_exporter": "python",
   "pygments_lexer": "ipython3",
   "version": "3.7.1"
  }
 },
 "nbformat": 4,
 "nbformat_minor": 2
}
